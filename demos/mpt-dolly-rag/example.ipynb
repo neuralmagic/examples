{
 "cells": [
  {
   "cell_type": "code",
   "execution_count": 16,
   "metadata": {},
   "outputs": [],
   "source": [
    "import os\n",
    "os.environ[\"TOKENIZERS_PARALLELISM\"] = \"True\""
   ]
  },
  {
   "cell_type": "markdown",
   "metadata": {},
   "source": [
    "## **DeepSparse MPT-Instruct Example**"
   ]
  },
  {
   "cell_type": "markdown",
   "metadata": {},
   "source": [
    "Install via the nightly build."
   ]
  },
  {
   "cell_type": "code",
   "execution_count": null,
   "metadata": {},
   "outputs": [],
   "source": [
    "!pip install deepsparse-nightly[llm] gdown jsonlines"
   ]
  },
  {
   "cell_type": "markdown",
   "metadata": {},
   "source": [
    "### **Download and Compile Model**\n",
    "\n",
    "The following downloads a pre-sparsified MPT-Instruct model from our SparseZoo and compiles the model. \n",
    "\n",
    "> Note: It will take a minute or two to compile even if the model is already downloaded, so try to reuse a pipeline as much as possible once its been set up."
   ]
  },
  {
   "cell_type": "code",
   "execution_count": 6,
   "metadata": {},
   "outputs": [
    {
     "name": "stderr",
     "output_type": "stream",
     "text": [
      "Downloading (…)okenizer_config.json: 100%|██████████| 237/237 [00:00<00:00, 194kB/s]\n",
      "Downloading (…)yment/tokenizer.json: 100%|██████████| 2.02M/2.02M [00:00<00:00, 28.8MB/s]\n",
      "Downloading (…)ployment/config.json: 100%|██████████| 1.41k/1.41k [00:00<00:00, 1.27MB/s]\n",
      "Downloading (…)eployment/model.onnx: 100%|██████████| 1.26M/1.26M [00:00<00:00, 19.8MB/s]\n",
      "Downloading (…)eployment/model.data: 100%|██████████| 6.39G/6.39G [03:52<00:00, 29.5MB/s]\n",
      "Downloading (…)cial_tokens_map.json: 100%|██████████| 131/131 [00:00<00:00, 121kB/s]\n",
      "Downloading (…)quantized/model.onnx: 100%|██████████| 1.26M/1.26M [00:00<00:00, 21.4MB/s]\n",
      "Overwriting the current location of the File: /home/robertgshaw/.cache/sparsezoo/neuralmagic/mpt-7b-dolly_mpt_pretrain-pruned50_quantized/deployment.tar.gz/deployment/tokenizer_config.json with the new location: /home/robertgshaw/.cache/sparsezoo/neuralmagic/mpt-7b-dolly_mpt_pretrain-pruned50_quantized/deployment/tokenizer_config.json.\n",
      "Downloading (…)okenizer_config.json: 100%|██████████| 237/237 [00:00<00:00, 232kB/s]\n",
      "Overwriting the current location of the File: /home/robertgshaw/.cache/sparsezoo/neuralmagic/mpt-7b-dolly_mpt_pretrain-pruned50_quantized/deployment.tar.gz/deployment/tokenizer.json with the new location: /home/robertgshaw/.cache/sparsezoo/neuralmagic/mpt-7b-dolly_mpt_pretrain-pruned50_quantized/deployment/tokenizer.json.\n",
      "Downloading (…)yment/tokenizer.json: 100%|██████████| 2.02M/2.02M [00:00<00:00, 26.0MB/s]\n",
      "Overwriting the current location of the File: /home/robertgshaw/.cache/sparsezoo/neuralmagic/mpt-7b-dolly_mpt_pretrain-pruned50_quantized/deployment.tar.gz/deployment/config.json with the new location: /home/robertgshaw/.cache/sparsezoo/neuralmagic/mpt-7b-dolly_mpt_pretrain-pruned50_quantized/deployment/config.json.\n",
      "Downloading (…)ployment/config.json: 100%|██████████| 1.41k/1.41k [00:00<00:00, 1.42MB/s]\n",
      "Overwriting the current location of the File: /home/robertgshaw/.cache/sparsezoo/neuralmagic/mpt-7b-dolly_mpt_pretrain-pruned50_quantized/deployment.tar.gz/deployment/model.onnx with the new location: /home/robertgshaw/.cache/sparsezoo/neuralmagic/mpt-7b-dolly_mpt_pretrain-pruned50_quantized/deployment/model.onnx.\n",
      "Downloading (…)eployment/model.onnx: 100%|██████████| 1.26M/1.26M [00:00<00:00, 19.5MB/s]\n",
      "Overwriting the current location of the File: /home/robertgshaw/.cache/sparsezoo/neuralmagic/mpt-7b-dolly_mpt_pretrain-pruned50_quantized/deployment.tar.gz/deployment/model.data with the new location: /home/robertgshaw/.cache/sparsezoo/neuralmagic/mpt-7b-dolly_mpt_pretrain-pruned50_quantized/deployment/model.data.\n",
      "Downloading (…)eployment/model.data: 100%|██████████| 6.39G/6.39G [01:13<00:00, 93.9MB/s]\n",
      "Overwriting the current location of the File: /home/robertgshaw/.cache/sparsezoo/neuralmagic/mpt-7b-dolly_mpt_pretrain-pruned50_quantized/deployment.tar.gz/deployment/special_tokens_map.json with the new location: /home/robertgshaw/.cache/sparsezoo/neuralmagic/mpt-7b-dolly_mpt_pretrain-pruned50_quantized/deployment/special_tokens_map.json.\n",
      "Downloading (…)cial_tokens_map.json: 100%|██████████| 131/131 [00:00<00:00, 99.1kB/s]\n",
      "Overwriting the current location of the File: /home/robertgshaw/.cache/sparsezoo/neuralmagic/mpt-7b-dolly_mpt_pretrain-pruned50_quantized/deployment.tar.gz/model.onnx with the new location: /home/robertgshaw/.cache/sparsezoo/neuralmagic/mpt-7b-dolly_mpt_pretrain-pruned50_quantized/model.onnx.\n",
      "Downloading (…)quantized/model.onnx: 100%|██████████| 1.26M/1.26M [00:00<00:00, 26.1MB/s]\n",
      "2023-11-05 18:04:22 deepsparse.transformers.pipelines.text_generation INFO     Compiling an auxiliary engine to process a prompt with a larger processing length. This improves performance, but may result in additional memory consumption.\n",
      "DeepSparse, Copyright 2021-present / Neuralmagic, Inc. version: 1.6.0.20231031 COMMUNITY | (74098695) (release) (optimized) (system=avx512_vnni, binary=avx512)\n"
     ]
    }
   ],
   "source": [
    "from deepsparse import TextGeneration\n",
    "\n",
    "pipeline = TextGeneration(model=\"zoo:mpt-7b-dolly_mpt_pretrain-pruned50_quantized\")"
   ]
  },
  {
   "cell_type": "markdown",
   "metadata": {},
   "source": [
    "### **Generate Text**\n",
    "\n",
    "We can now call the pipeline to generate a response to a prompt."
   ]
  },
  {
   "cell_type": "code",
   "execution_count": 11,
   "metadata": {},
   "outputs": [
    {
     "name": "stdout",
     "output_type": "stream",
     "text": [
      " There are a number of ways to travel from London to Edinburgh. You can take a direct flight from London to Edinburgh, which will take around 1 hour and 20 minutes. Alternatively, you can take the Eurostar train from London to Edinburgh, which will take around 2 hours and 30 minutes. You can also drive from London to Edinburgh, which will take around 8 hours.\n"
     ]
    }
   ],
   "source": [
    "prompt = \"Below is an instruction that describes a task. Write a response that appropriately completes the request. ### Instruction: How best should I travel from London to Edinburgh, UK ? ### Response:\"\n",
    "\n",
    "output = pipeline(prompt, max_new_tokens=100)\n",
    "print(output.generations[0].text)"
   ]
  },
  {
   "cell_type": "markdown",
   "metadata": {},
   "source": [
    "Stream responses with the following."
   ]
  },
  {
   "cell_type": "code",
   "execution_count": 14,
   "metadata": {},
   "outputs": [
    {
     "name": "stdout",
     "output_type": "stream",
     "text": [
      "Below is an instruction that describes a task. Write a response that appropriately completes the request. ### Instruction: How best should I travel from London to Edinburgh, UK ? ### Response:\n",
      "\n",
      " There are a number of ways to travel from London to Edinburgh. You can take a direct flight from London to Edinburgh, which will take around 1 hour and 20 minutes. Alternatively, you can take the Eurostar train from London to Edinburgh, which will take around 2 hours and 30 minutes. You can also drive from London to Edinburgh, which will take around 8 hours.<|endoftext|>"
     ]
    }
   ],
   "source": [
    "output_iterator = pipeline(prompt=prompt, streaming=True, max_new_tokens=100)\n",
    "\n",
    "print(prompt, end=\"\\n\\n\")\n",
    "for it in output_iterator:\n",
    "    print(it.generations[0].text, end=\"\")"
   ]
  },
  {
   "cell_type": "markdown",
   "metadata": {},
   "source": [
    "See [our documentation](https://github.com/neuralmagic/deepsparse/blob/main/docs/llms/text-generation-pipeline.md) for details on how to customize generation strategies"
   ]
  },
  {
   "cell_type": "markdown",
   "metadata": {},
   "source": [
    "### **RAG Example**"
   ]
  },
  {
   "cell_type": "code",
   "execution_count": 20,
   "metadata": {},
   "outputs": [
    {
     "name": "stdout",
     "output_type": "stream",
     "text": [
      "Downloading...\n",
      "From (uriginal): https://drive.google.com/uc?id=1TLKhWjez63H4uBtgCxyoyJsZi-IMgnDb\n",
      "From (redirected): https://drive.google.com/uc?id=1TLKhWjez63H4uBtgCxyoyJsZi-IMgnDb&confirm=t&uuid=464329cb-b24d-48c2-a9af-a52e5b69102a\n",
      "To: /home/robertgshaw/mpt-example/eval_data.zip\n",
      "100%|█████████████████████████████████████████| 157M/157M [00:01<00:00, 110MB/s]\n"
     ]
    }
   ],
   "source": [
    "!gdown 1TLKhWjez63H4uBtgCxyoyJsZi-IMgnDb --fuzzy"
   ]
  },
  {
   "cell_type": "code",
   "execution_count": 22,
   "metadata": {},
   "outputs": [
    {
     "name": "stdout",
     "output_type": "stream",
     "text": [
      "Archive:  eval_data.zip\n",
      "   creating: eval_data/\n",
      "  inflating: eval_data/asqa_eval_gtr_top100.json  \n",
      "  inflating: eval_data/factscore_unlabeled_alpaca_13b_retrieval.jsonl  \n",
      "  inflating: eval_data/popqa_longtail_w_gs.jsonl  \n",
      "  inflating: eval_data/triviaqa_test_w_gs.jsonl  \n",
      "  inflating: eval_data/arc_challenge_processed.jsonl  \n",
      "  inflating: eval_data/health_claims_processed.jsonl  \n",
      "  inflating: eval_data/popqa_longtail.jsonl  \n",
      "  inflating: eval_data/triviaqa_test.jsonl  \n"
     ]
    }
   ],
   "source": [
    "!unzip eval_data.zip"
   ]
  },
  {
   "cell_type": "code",
   "execution_count": 30,
   "metadata": {},
   "outputs": [],
   "source": [
    "import jsonlines\n",
    "\n",
    "def load_jsonlines(file):\n",
    "    with jsonlines.open(file, 'r') as jsonl_f:\n",
    "        lst = [obj for obj in jsonl_f]\n",
    "    return lst\n",
    "\n",
    "input_data = load_jsonlines(\"eval_data/triviaqa_test_w_gs.jsonl\")"
   ]
  },
  {
   "cell_type": "code",
   "execution_count": 73,
   "metadata": {},
   "outputs": [
    {
     "name": "stdout",
     "output_type": "stream",
     "text": [
      "question=Which English rowing event is held every year on the River Thames for 5 days (Wednesday to Sunday) over the first weekend in July?\n",
      "\n",
      "i=0 title=River Thames \n",
      "text=the stretch of river from Chiswick to Putney. Two rowing events on the River Thames are traditionally part of the wider English sporting calendar: The University Boat Race (between Oxford and Cambridge) takes place in late March or early April, on the Championship Course from Putney to Mortlake in the west of London. Henley Royal Regatta takes place over five days at the start of July in the upstream town of Henley-on-Thames. Besides its sporting significance the regatta is an important date on the English social calendar alongside events like Royal Ascot and Wimbledon. Other significant or historic rowing events\n",
      "\n",
      "\n",
      "\n",
      "i=1 title=University rowing (UK) \n",
      "text=competition into 2 separate days, with Beginners racing over a shorter course on one day, and Seniors racing on the longer course on the other. However, due to inclement weather, the event was cancelled. The event was again held in Peterborough in 2010, 2011 and 2012, and was due to be held there in 2013. However, due to flooding, the event was moved to Boston that year, with Newcastle topping the medal table. The 2014 event was cancelled due to bad weather, It was held in Boston again in 2015, with racing on Saturday only for the \"intermediate\" and \"championship\"\n",
      "\n",
      "\n",
      "\n",
      "i=2 title=Henley Royal Regatta \n",
      "text=Henley Royal Regatta Henley Royal Regatta (or Henley Regatta, its original name pre-dating Royal patronage) is a rowing event held annually on the River Thames by the town of Henley-on-Thames, England. It was established on 26 March 1839. It differs from the three other regattas rowed over approximately the same course, Henley Women's Regatta, Henley Masters Regatta and Henley Town and Visitors' Regatta, each of which is an entirely separate event. The regatta lasts for five days (Wednesday to Sunday) ending on the first weekend in July. Races are head-to-head knock out competitions, raced over a course of 1 mile,\n",
      "\n",
      "\n",
      "\n"
     ]
    }
   ],
   "source": [
    "index = 51\n",
    "datum = input_data[index] \n",
    "\n",
    "print(f'question={datum[\"question\"]}\\n')\n",
    "\n",
    "for i, ctx in enumerate(datum[\"ctxs\"]):\n",
    "    if i == 3:\n",
    "        break\n",
    "    print(f'i={i} title={ctx[\"title\"]} \\ntext={ctx[\"text\"]}')\n",
    "    print(\"\\n\\n\")"
   ]
  },
  {
   "cell_type": "code",
   "execution_count": 67,
   "metadata": {},
   "outputs": [],
   "source": [
    "def format_context(ctx):\n",
    "    return f'{ctx[\"title\"]}: {ctx[\"text\"]}'\n",
    "\n",
    "def format_instruction(input_datum):\n",
    "    question = input_datum[\"question\"]\n",
    "    ctxs = input_datum[\"ctxs\"]\n",
    "\n",
    "    EXAMPLE=\"\"\"{q}\n",
    "\n",
    "CONTEXT: {ctx0}\n",
    "\n",
    "CONTEXT: {ctx1}\n",
    "\n",
    "CONTEXT: {ctx2}\n",
    "\n",
    "    \"\"\".format(\n",
    "        q=question,\n",
    "        ctx0=format_context(ctxs[0]),\n",
    "        ctx1=format_context(ctxs[1]),\n",
    "        ctx2=format_context(ctxs[2]),\n",
    "    )\n",
    "\n",
    "    return EXAMPLE\n",
    "\n",
    "\n",
    "INSTRUCTION_KEY = \"### Instruction:\"\n",
    "RESPONSE_KEY = \"### Response:\"\n",
    "INTRO_BLURB = \"Below is an instruction that describes a task. Write a response that appropriately completes the request.\"\n",
    "PROMPT_FOR_GENERATION_FORMAT = \"\"\"{intro}\n",
    "{instruction_key}\n",
    "{instruction}\n",
    "{response_key}\n",
    "\"\"\".format(\n",
    "    intro=INTRO_BLURB,\n",
    "    instruction_key=INSTRUCTION_KEY,\n",
    "    instruction=\"{instruction}\",\n",
    "    response_key=RESPONSE_KEY,\n",
    ")\n",
    "\n",
    "def format_prompt(input_datum):\n",
    "    return PROMPT_FOR_GENERATION_FORMAT.format(instruction=format_instruction(input_datum))\n"
   ]
  },
  {
   "cell_type": "code",
   "execution_count": 70,
   "metadata": {},
   "outputs": [
    {
     "name": "stdout",
     "output_type": "stream",
     "text": [
      "Below is an instruction that describes a task. Write a response that appropriately completes the request.\n",
      "### Instruction:\n",
      "Which English rowing event is held every year on the River Thames for 5 days (Wednesday to Sunday) over the first weekend in July?\n",
      "\n",
      "CONTEXT: River Thames: the stretch of river from Chiswick to Putney. Two rowing events on the River Thames are traditionally part of the wider English sporting calendar: The University Boat Race (between Oxford and Cambridge) takes place in late March or early April, on the Championship Course from Putney to Mortlake in the west of London. Henley Royal Regatta takes place over five days at the start of July in the upstream town of Henley-on-Thames. Besides its sporting significance the regatta is an important date on the English social calendar alongside events like Royal Ascot and Wimbledon. Other significant or historic rowing events\n",
      "\n",
      "CONTEXT: University rowing (UK): competition into 2 separate days, with Beginners racing over a shorter course on one day, and Seniors racing on the longer course on the other. However, due to inclement weather, the event was cancelled. The event was again held in Peterborough in 2010, 2011 and 2012, and was due to be held there in 2013. However, due to flooding, the event was moved to Boston that year, with Newcastle topping the medal table. The 2014 event was cancelled due to bad weather, It was held in Boston again in 2015, with racing on Saturday only for the \"intermediate\" and \"championship\"\n",
      "\n",
      "CONTEXT: Henley Royal Regatta: Henley Royal Regatta Henley Royal Regatta (or Henley Regatta, its original name pre-dating Royal patronage) is a rowing event held annually on the River Thames by the town of Henley-on-Thames, England. It was established on 26 March 1839. It differs from the three other regattas rowed over approximately the same course, Henley Women's Regatta, Henley Masters Regatta and Henley Town and Visitors' Regatta, each of which is an entirely separate event. The regatta lasts for five days (Wednesday to Sunday) ending on the first weekend in July. Races are head-to-head knock out competitions, raced over a course of 1 mile,\n",
      "\n",
      "    \n",
      "### Response:\n",
      "\n"
     ]
    }
   ],
   "source": [
    "prompt = format_prompt(datum)\n",
    "print(prompt)"
   ]
  },
  {
   "cell_type": "code",
   "execution_count": 72,
   "metadata": {},
   "outputs": [
    {
     "name": "stdout",
     "output_type": "stream",
     "text": [
      "The regatta that is held on the River Thames in England over the first weekend of July is the Henley Royal Regatta.\n",
      "\n"
     ]
    }
   ],
   "source": [
    "output = pipeline(prompt, max_new_tokens=100)\n",
    "print(output.generations[0].text)"
   ]
  }
 ],
 "metadata": {
  "kernelspec": {
   "display_name": "env",
   "language": "python",
   "name": "python3"
  },
  "language_info": {
   "codemirror_mode": {
    "name": "ipython",
    "version": 3
   },
   "file_extension": ".py",
   "mimetype": "text/x-python",
   "name": "python",
   "nbconvert_exporter": "python",
   "pygments_lexer": "ipython3",
   "version": "3.9.2"
  }
 },
 "nbformat": 4,
 "nbformat_minor": 2
}
