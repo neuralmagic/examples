{
 "cells": [
  {
   "cell_type": "markdown",
   "metadata": {},
   "source": [
    "## Run Inference"
   ]
  },
  {
   "cell_type": "markdown",
   "metadata": {},
   "source": [
    "First, compile the model. Don't worry ahout the warning about disabiling the optimized runtime, this is an auxilary engine used to handle any odd input shapes we get."
   ]
  },
  {
   "cell_type": "code",
   "execution_count": 15,
   "metadata": {},
   "outputs": [
    {
     "name": "stderr",
     "output_type": "stream",
     "text": [
      "2023-11-01 14:22:26 deepsparse.engine WARNING  batch_size < 1 so disabling batch size override\n",
      "[nm_ort 7f2edf331740 >WARN<  is_supported_graph src/onnxruntime_neuralmagic/supported/ops.cc:150] Warning: Optimized runtime disabled - Detected dynamic input input_ids dim 0. Set inputs to static shapes to enable optimal performance.\n"
     ]
    }
   ],
   "source": [
    "from deepsparse.sentence_transformers import DeepSparseSentenceTransformer\n",
    "ds_model = DeepSparseSentenceTransformer(\"zeroshot/bge-base-en-v1.5-quant\")"
   ]
  },
  {
   "cell_type": "markdown",
   "metadata": {},
   "source": [
    "Run inference by calling encode."
   ]
  },
  {
   "cell_type": "code",
   "execution_count": 30,
   "metadata": {},
   "outputs": [
    {
     "name": "stdout",
     "output_type": "stream",
     "text": [
      "1\n"
     ]
    },
    {
     "data": {
      "application/vnd.jupyter.widget-view+json": {
       "model_id": "d0208efdd69e4e3980dbc93f05a2721a",
       "version_major": 2,
       "version_minor": 0
      },
      "text/plain": [
       "Batches:   0%|          | 0/3 [00:00<?, ?it/s]"
      ]
     },
     "metadata": {},
     "output_type": "display_data"
    },
    {
     "name": "stdout",
     "output_type": "stream",
     "text": [
      "Sentence: This framework generates embeddings for each input sentence\n",
      "Embedding Shape: (768,)\n",
      "\n",
      "Sentence: Sentences are passed as a list of string.\n",
      "Embedding Shape: (768,)\n",
      "\n",
      "Sentence: The quick brown fox jumps over the lazy dog.\n",
      "Embedding Shape: (768,)\n",
      "\n"
     ]
    }
   ],
   "source": [
    "# Our sentences we like to encode\n",
    "sentences = [\n",
    "    'This framework generates embeddings for each input sentence',\n",
    "    'Sentences are passed as a list of string.',\n",
    "    'The quick brown fox jumps over the lazy dog.'\n",
    "]\n",
    "\n",
    "# Sentences are encoded by calling model.encode()\n",
    "embeddings = ds_model.encode(\n",
    "    sentences,\n",
    "    normalize_embeddings=True\n",
    ")\n",
    "\n",
    "# Print the embeddings\n",
    "for sentence, embedding in zip(sentences, embeddings):\n",
    "    print(\"Sentence:\", sentence)\n",
    "    print(\"Embedding Shape:\", embedding.shape)\n",
    "    print(\"\")"
   ]
  },
  {
   "cell_type": "code",
   "execution_count": 31,
   "metadata": {},
   "outputs": [
    {
     "data": {
      "text/plain": [
       "1.0"
      ]
     },
     "execution_count": 31,
     "metadata": {},
     "output_type": "execute_result"
    }
   ],
   "source": [
    "import numpy as np\n",
    "np.linalg.norm(embedding)"
   ]
  },
  {
   "cell_type": "markdown",
   "metadata": {},
   "source": [
    "## Benchmark Performance"
   ]
  },
  {
   "cell_type": "markdown",
   "metadata": {},
   "source": [
    "DeepSparse offers superior performance relative to the baseline of sentence-transformers."
   ]
  },
  {
   "cell_type": "code",
   "execution_count": 7,
   "metadata": {},
   "outputs": [],
   "source": [
    "import time\n",
    "\n",
    "def benchmark_model(model, sentences):\n",
    "    # Benchmark the encoding time for a model with a given list of sentences.\n",
    "    start_time = time.time()\n",
    "    _ = model.encode(sentences)\n",
    "    elapsed_time = time.time() - start_time\n",
    "    return elapsed_time"
   ]
  },
  {
   "cell_type": "code",
   "execution_count": 6,
   "metadata": {},
   "outputs": [
    {
     "data": {
      "application/vnd.jupyter.widget-view+json": {
       "model_id": "63947d08e1364dd889152b8da249a43b",
       "version_major": 2,
       "version_minor": 0
      },
      "text/plain": [
       "Downloading (…)db36e/.gitattributes:   0%|          | 0.00/1.52k [00:00<?, ?B/s]"
      ]
     },
     "metadata": {},
     "output_type": "display_data"
    },
    {
     "data": {
      "application/vnd.jupyter.widget-view+json": {
       "model_id": "fba0c4e459d34ee196f874b22a78b95f",
       "version_major": 2,
       "version_minor": 0
      },
      "text/plain": [
       "Downloading (…)_Pooling/config.json:   0%|          | 0.00/190 [00:00<?, ?B/s]"
      ]
     },
     "metadata": {},
     "output_type": "display_data"
    },
    {
     "data": {
      "application/vnd.jupyter.widget-view+json": {
       "model_id": "211ece57fbaa4621b8b091d69044d6f5",
       "version_major": 2,
       "version_minor": 0
      },
      "text/plain": [
       "Downloading (…)88b99db36e/README.md:   0%|          | 0.00/90.2k [00:00<?, ?B/s]"
      ]
     },
     "metadata": {},
     "output_type": "display_data"
    },
    {
     "data": {
      "application/vnd.jupyter.widget-view+json": {
       "model_id": "024f9494becc4c188ddae28801a1b85e",
       "version_major": 2,
       "version_minor": 0
      },
      "text/plain": [
       "Downloading (…)b99db36e/config.json:   0%|          | 0.00/777 [00:00<?, ?B/s]"
      ]
     },
     "metadata": {},
     "output_type": "display_data"
    },
    {
     "data": {
      "application/vnd.jupyter.widget-view+json": {
       "model_id": "42782fa47dc24d7faefdbdc0431834a1",
       "version_major": 2,
       "version_minor": 0
      },
      "text/plain": [
       "Downloading (…)ce_transformers.json:   0%|          | 0.00/124 [00:00<?, ?B/s]"
      ]
     },
     "metadata": {},
     "output_type": "display_data"
    },
    {
     "data": {
      "application/vnd.jupyter.widget-view+json": {
       "model_id": "2db56ab37efe48fe909985d43ee3b3c7",
       "version_major": 2,
       "version_minor": 0
      },
      "text/plain": [
       "Downloading pytorch_model.bin:   0%|          | 0.00/438M [00:00<?, ?B/s]"
      ]
     },
     "metadata": {},
     "output_type": "display_data"
    },
    {
     "data": {
      "application/vnd.jupyter.widget-view+json": {
       "model_id": "a7d0c1c770b849b09555c9d0470f5d98",
       "version_major": 2,
       "version_minor": 0
      },
      "text/plain": [
       "Downloading (…)nce_bert_config.json:   0%|          | 0.00/52.0 [00:00<?, ?B/s]"
      ]
     },
     "metadata": {},
     "output_type": "display_data"
    },
    {
     "data": {
      "application/vnd.jupyter.widget-view+json": {
       "model_id": "3dd328fceecc4421b39ac21ca1a4d3c9",
       "version_major": 2,
       "version_minor": 0
      },
      "text/plain": [
       "Downloading (…)cial_tokens_map.json:   0%|          | 0.00/125 [00:00<?, ?B/s]"
      ]
     },
     "metadata": {},
     "output_type": "display_data"
    },
    {
     "data": {
      "application/vnd.jupyter.widget-view+json": {
       "model_id": "b91d5acc69cf44c689ce823f134c7733",
       "version_major": 2,
       "version_minor": 0
      },
      "text/plain": [
       "Downloading (…)db36e/tokenizer.json:   0%|          | 0.00/711k [00:00<?, ?B/s]"
      ]
     },
     "metadata": {},
     "output_type": "display_data"
    },
    {
     "data": {
      "application/vnd.jupyter.widget-view+json": {
       "model_id": "388d72cf45c34531a4a7de41a064e4be",
       "version_major": 2,
       "version_minor": 0
      },
      "text/plain": [
       "Downloading (…)okenizer_config.json:   0%|          | 0.00/366 [00:00<?, ?B/s]"
      ]
     },
     "metadata": {},
     "output_type": "display_data"
    },
    {
     "data": {
      "application/vnd.jupyter.widget-view+json": {
       "model_id": "aa3a945c98924a61b8b8155ad6247b27",
       "version_major": 2,
       "version_minor": 0
      },
      "text/plain": [
       "Downloading (…)88b99db36e/vocab.txt:   0%|          | 0.00/232k [00:00<?, ?B/s]"
      ]
     },
     "metadata": {},
     "output_type": "display_data"
    },
    {
     "data": {
      "application/vnd.jupyter.widget-view+json": {
       "model_id": "e466ab9901ea4d9999e75ad0c1c853c9",
       "version_major": 2,
       "version_minor": 0
      },
      "text/plain": [
       "Downloading (…)99db36e/modules.json:   0%|          | 0.00/349 [00:00<?, ?B/s]"
      ]
     },
     "metadata": {},
     "output_type": "display_data"
    }
   ],
   "source": [
    "import sentence_transformers\n",
    "st_model = sentence_transformers.SentenceTransformer(\"BAAI/bge-base-en-v1.5\")"
   ]
  },
  {
   "cell_type": "code",
   "execution_count": 18,
   "metadata": {},
   "outputs": [],
   "source": [
    "from deepsparse.sentence_transformers.benchmark_encoding import generate_random_sentence\n",
    "\n",
    "num_sentences = 100\n",
    "sentence_length = 700\n",
    "sentences = [generate_random_sentence(sentence_length) for _ in range(num_sentences)]"
   ]
  },
  {
   "cell_type": "code",
   "execution_count": 9,
   "metadata": {},
   "outputs": [
    {
     "name": "stdout",
     "output_type": "stream",
     "text": [
      "sentence_transformer time: 25.30896258354187\n"
     ]
    }
   ],
   "source": [
    "st_time = benchmark_model(st_model, sentences)\n",
    "print(f\"sentence_transformer time: {st_time}\")"
   ]
  },
  {
   "cell_type": "code",
   "execution_count": 19,
   "metadata": {},
   "outputs": [
    {
     "name": "stdout",
     "output_type": "stream",
     "text": [
      "1\n"
     ]
    },
    {
     "data": {
      "application/vnd.jupyter.widget-view+json": {
       "model_id": "2f6602bac2384974b8a8deb39ca15748",
       "version_major": 2,
       "version_minor": 0
      },
      "text/plain": [
       "Batches:   0%|          | 0/100 [00:00<?, ?it/s]"
      ]
     },
     "metadata": {},
     "output_type": "display_data"
    },
    {
     "name": "stdout",
     "output_type": "stream",
     "text": [
      "sentence_transformer time: 6.328191041946411\n"
     ]
    }
   ],
   "source": [
    "ds_time = benchmark_model(ds_model, sentences)\n",
    "print(f\"sentence_transformer time: {ds_time}\")"
   ]
  },
  {
   "cell_type": "markdown",
   "metadata": {},
   "source": [
    "## Run Evaluation"
   ]
  },
  {
   "cell_type": "markdown",
   "metadata": {},
   "source": [
    "We provided a script showing how to run an MTEB evaluation."
   ]
  },
  {
   "cell_type": "code",
   "execution_count": 1,
   "metadata": {},
   "outputs": [
    {
     "name": "stdout",
     "output_type": "stream",
     "text": [
      "INFO:mteb.cmd:Running with parameters: Namespace(model=None, task_types=None, task_categories=None, tasks=None, task_langs=None, device=None, batch_size=32, seed=42, output_folder='results', verbosity=2, eval_splits=None, k=None, n_experiments=None, samples_per_label=None, corpus_chunk_size=None, available_tasks=True)\n",
      "\u001b[30m───────────────────────────────── \u001b[0m\u001b[1mMTEB tasks \u001b[0m\u001b[30m ──────────────────────────────────\u001b[0m\n",
      "\u001b[1mClassification\u001b[0m\n",
      "    - AmazonCounterfactualClassification, \u001b[3;90ms2s\u001b[0m, \u001b[3;31mmultilingual \u001b[0m\u001b[1;3;31m4\u001b[0m\u001b[3;31m \u001b[0m\u001b[3;31m/\u001b[0m\u001b[3;31m \u001b[0m\u001b[1;3;31m4\u001b[0m\u001b[3;31m langs\u001b[0m\n",
      "    - AmazonPolarityClassification, \u001b[3;90mp2p\u001b[0m\n",
      "    - AmazonReviewsClassification, \u001b[3;90ms2s\u001b[0m, \u001b[3;31mmultilingual \u001b[0m\u001b[1;3;31m6\u001b[0m\u001b[3;31m \u001b[0m\u001b[3;31m/\u001b[0m\u001b[3;31m \u001b[0m\u001b[1;3;31m6\u001b[0m\u001b[3;31m langs\u001b[0m\n",
      "    - AngryTweetsClassification, \u001b[3;90ms2s\u001b[0m\n",
      "    - Banking77Classification, \u001b[3;90ms2s\u001b[0m\n",
      "    - DalajClassification, \u001b[3;90ms2s\u001b[0m\n",
      "    - DanishPoliticalCommentsClassification, \u001b[3;90ms2s\u001b[0m\n",
      "    - DKHateClassification, \u001b[3;90ms2s\u001b[0m\n",
      "    - EmotionClassification, \u001b[3;90ms2s\u001b[0m\n",
      "    - ImdbClassification, \u001b[3;90mp2p\u001b[0m\n",
      "    - LccSentimentClassification, \u001b[3;90ms2s\u001b[0m\n",
      "    - MassiveIntentClassification, \u001b[3;90ms2s\u001b[0m, \u001b[3;31mmultilingual \u001b[0m\u001b[1;3;31m51\u001b[0m\u001b[3;31m \u001b[0m\u001b[3;31m/\u001b[0m\u001b[3;31m \u001b[0m\u001b[1;3;31m51\u001b[0m\u001b[3;31m langs\u001b[0m\n",
      "    - MassiveScenarioClassification, \u001b[3;90ms2s\u001b[0m, \u001b[3;31mmultilingual \u001b[0m\u001b[1;3;31m51\u001b[0m\u001b[3;31m \u001b[0m\u001b[3;31m/\u001b[0m\u001b[3;31m \u001b[0m\u001b[1;3;31m51\u001b[0m\u001b[3;31m langs\u001b[0m\n",
      "    - MTOPDomainClassification, \u001b[3;90ms2s\u001b[0m, \u001b[3;31mmultilingual \u001b[0m\u001b[1;3;31m6\u001b[0m\u001b[3;31m \u001b[0m\u001b[3;31m/\u001b[0m\u001b[3;31m \u001b[0m\u001b[1;3;31m6\u001b[0m\u001b[3;31m langs\u001b[0m\n",
      "    - MTOPIntentClassification, \u001b[3;90ms2s\u001b[0m, \u001b[3;31mmultilingual \u001b[0m\u001b[1;3;31m6\u001b[0m\u001b[3;31m \u001b[0m\u001b[3;31m/\u001b[0m\u001b[3;31m \u001b[0m\u001b[1;3;31m6\u001b[0m\u001b[3;31m langs\u001b[0m\n",
      "    - NoRecClassification, \u001b[3;90ms2s\u001b[0m\n",
      "    - NordicLangClassification, \u001b[3;90ms2s\u001b[0m\n",
      "    - NorwegianParliament, \u001b[3;90ms2s\u001b[0m\n",
      "    - ScalaDaClassification, \u001b[3;90ms2s\u001b[0m\n",
      "    - ScalaNbClassification, \u001b[3;90ms2s\u001b[0m\n",
      "    - ScalaNbClassification, \u001b[3;90ms2s\u001b[0m\n",
      "    - ScalaSvClassification, \u001b[3;90ms2s\u001b[0m\n",
      "    - SweRecClassification, \u001b[3;90ms2s\u001b[0m\n",
      "    - ToxicConversationsClassification, \u001b[3;90ms2s\u001b[0m\n",
      "    - TweetSentimentExtractionClassification, \u001b[3;90ms2s\u001b[0m\n",
      "    - TNews, \u001b[3;90ms2s\u001b[0m\n",
      "    - IFlyTek, \u001b[3;90ms2s\u001b[0m\n",
      "    - MultilingualSentiment, \u001b[3;90ms2s\u001b[0m\n",
      "    - JDReview, \u001b[3;90ms2s\u001b[0m\n",
      "    - OnlineShopping, \u001b[3;90ms2s\u001b[0m\n",
      "    - Waimai, \u001b[3;90ms2s\u001b[0m\n",
      "    - CBD, \u001b[3;90ms2s\u001b[0m\n",
      "    - PolEmo2.\u001b[1;36m0\u001b[0m-IN, \u001b[3;90ms2s\u001b[0m\n",
      "    - PolEmo2.\u001b[1;36m0\u001b[0m-OUT, \u001b[3;90ms2s\u001b[0m\n",
      "    - AllegroReviews, \u001b[3;90ms2s\u001b[0m\n",
      "    - PAC, \u001b[3;90ms2s\u001b[0m\n",
      "\n",
      "\n",
      "\u001b[1mBitextMining\u001b[0m\n",
      "    - BUCC, \u001b[3;90ms2s\u001b[0m, \u001b[3;36mcrosslingual \u001b[0m\u001b[1;3;36m4\u001b[0m\u001b[3;36m \u001b[0m\u001b[3;36m/\u001b[0m\u001b[3;36m \u001b[0m\u001b[1;3;36m4\u001b[0m\u001b[3;36m pairs\u001b[0m\n",
      "    - BornholmBitextMining, \u001b[3;90ms2s\u001b[0m\n",
      "    - Tatoeba, \u001b[3;90ms2s\u001b[0m, \u001b[3;36mcrosslingual \u001b[0m\u001b[1;3;36m112\u001b[0m\u001b[3;36m \u001b[0m\u001b[3;36m/\u001b[0m\u001b[3;36m \u001b[0m\u001b[1;3;36m112\u001b[0m\u001b[3;36m pairs\u001b[0m\n",
      "\n",
      "\n",
      "\u001b[1mRetrieval\u001b[0m\n",
      "    - ArguAna, \u001b[3;33mbeir\u001b[0m, \u001b[3;90mp2p\u001b[0m\n",
      "    - ClimateFEVER, \u001b[3;33mbeir\u001b[0m, \u001b[3;90ms2p\u001b[0m\n",
      "    - CQADupstackAndroidRetrieval, \u001b[3;33mbeir\u001b[0m, \u001b[3;90ms2p\u001b[0m\n",
      "    - CQADupstackEnglishRetrieval, \u001b[3;33mbeir\u001b[0m, \u001b[3;90ms2p\u001b[0m\n",
      "    - CQADupstackGamingRetrieval, \u001b[3;33mbeir\u001b[0m, \u001b[3;90ms2p\u001b[0m\n",
      "    - CQADupstackGisRetrieval, \u001b[3;33mbeir\u001b[0m, \u001b[3;90ms2p\u001b[0m\n",
      "    - CQADupstackMathematicaRetrieval, \u001b[3;33mbeir\u001b[0m, \u001b[3;90ms2p\u001b[0m\n",
      "    - CQADupstackPhysicsRetrieval, \u001b[3;33mbeir\u001b[0m, \u001b[3;90ms2p\u001b[0m\n",
      "    - CQADupstackProgrammersRetrieval, \u001b[3;33mbeir\u001b[0m, \u001b[3;90ms2p\u001b[0m\n",
      "    - CQADupstackStatsRetrieval, \u001b[3;33mbeir\u001b[0m, \u001b[3;90ms2p\u001b[0m\n",
      "    - CQADupstackTexRetrieval, \u001b[3;33mbeir\u001b[0m, \u001b[3;90ms2p\u001b[0m\n",
      "    - CQADupstackUnixRetrieval, \u001b[3;33mbeir\u001b[0m, \u001b[3;90ms2p\u001b[0m\n",
      "    - CQADupstackWebmastersRetrieval, \u001b[3;33mbeir\u001b[0m, \u001b[3;90ms2p\u001b[0m\n",
      "    - CQADupstackWordpressRetrieval, \u001b[3;33mbeir\u001b[0m, \u001b[3;90ms2p\u001b[0m\n",
      "    - DBPedia, \u001b[3;33mbeir\u001b[0m, \u001b[3;90ms2p\u001b[0m\n",
      "    - FEVER, \u001b[3;33mbeir\u001b[0m, \u001b[3;90ms2p\u001b[0m\n",
      "    - FiQA2018, \u001b[3;33mbeir\u001b[0m, \u001b[3;90ms2p\u001b[0m\n",
      "    - HotpotQA, \u001b[3;33mbeir\u001b[0m, \u001b[3;90ms2p\u001b[0m\n",
      "    - MSMARCO, \u001b[3;33mbeir\u001b[0m, \u001b[3;90ms2p\u001b[0m\n",
      "    - MSMARCOv2, \u001b[3;33mbeir\u001b[0m, \u001b[3;90ms2p\u001b[0m\n",
      "    - NFCorpus, \u001b[3;33mbeir\u001b[0m, \u001b[3;90ms2p\u001b[0m\n",
      "    - NQ, \u001b[3;33mbeir\u001b[0m, \u001b[3;90ms2p\u001b[0m\n",
      "    - QuoraRetrieval, \u001b[3;33mbeir\u001b[0m, \u001b[3;90ms2s\u001b[0m\n",
      "    - SCIDOCS, \u001b[3;33mbeir\u001b[0m, \u001b[3;90ms2p\u001b[0m\n",
      "    - SciFact, \u001b[3;33mbeir\u001b[0m, \u001b[3;90ms2p\u001b[0m\n",
      "    - Touche2020, \u001b[3;33mbeir\u001b[0m, \u001b[3;90ms2p\u001b[0m\n",
      "    - TRECCOVID, \u001b[3;33mbeir\u001b[0m, \u001b[3;90ms2p\u001b[0m\n",
      "    - T2Retrieval, \u001b[3;90ms2p\u001b[0m\n",
      "    - MMarcoRetrieval, \u001b[3;90ms2p\u001b[0m\n",
      "    - DuRetrieval, \u001b[3;90ms2p\u001b[0m\n",
      "    - CovidRetrieval, \u001b[3;90ms2p\u001b[0m\n",
      "    - CmedqaRetrieval, \u001b[3;90ms2p\u001b[0m\n",
      "    - EcomRetrieval, \u001b[3;90ms2p\u001b[0m\n",
      "    - MedicalRetrieval, \u001b[3;90ms2p\u001b[0m\n",
      "    - VideoRetrieval, \u001b[3;90ms2p\u001b[0m\n",
      "    - ArguAna-PL, \u001b[3;33mbeir\u001b[0m, \u001b[3;90mp2p\u001b[0m\n",
      "    - DBPedia-PL, \u001b[3;33mbeir\u001b[0m, \u001b[3;90ms2p\u001b[0m\n",
      "    - FiQA-PL, \u001b[3;33mbeir\u001b[0m, \u001b[3;90ms2p\u001b[0m\n",
      "    - HotpotQA-PL, \u001b[3;33mbeir\u001b[0m, \u001b[3;90ms2p\u001b[0m\n",
      "    - MSMARCO-PL, \u001b[3;33mbeir\u001b[0m, \u001b[3;90ms2p\u001b[0m\n",
      "    - NFCorpus-PL, \u001b[3;33mbeir\u001b[0m, \u001b[3;90ms2p\u001b[0m\n",
      "    - NQ-PL, \u001b[3;33mbeir\u001b[0m, \u001b[3;90ms2p\u001b[0m\n",
      "    - Quora-PL, \u001b[3;33mbeir\u001b[0m, \u001b[3;90ms2s\u001b[0m\n",
      "    - SCIDOCS-PL, \u001b[3;33mbeir\u001b[0m, \u001b[3;90ms2p\u001b[0m\n",
      "    - SciFact-PL, \u001b[3;33mbeir\u001b[0m, \u001b[3;90ms2p\u001b[0m\n",
      "    - TRECCOVID-PL, \u001b[3;33mbeir\u001b[0m, \u001b[3;90ms2p\u001b[0m\n",
      "\n",
      "\n",
      "\u001b[1mPairClassification\u001b[0m\n",
      "    - SprintDuplicateQuestions, \u001b[3;90ms2s\u001b[0m\n",
      "    - TwitterSemEval2015, \u001b[3;90ms2s\u001b[0m\n",
      "    - TwitterURLCorpus, \u001b[3;90ms2s\u001b[0m\n",
      "    - Ocnli, \u001b[3;90ms2s\u001b[0m\n",
      "    - Cmnli, \u001b[3;90ms2s\u001b[0m\n",
      "    - SICK-E-PL, \u001b[3;90ms2s\u001b[0m\n",
      "    - PPC, \u001b[3;90ms2s\u001b[0m\n",
      "    - CDSC-E, \u001b[3;90ms2s\u001b[0m\n",
      "    - PSC, \u001b[3;90ms2s\u001b[0m\n",
      "\n",
      "\n",
      "\u001b[1mClustering\u001b[0m\n",
      "    - ArxivClusteringP2P, \u001b[3;90mp2p\u001b[0m\n",
      "    - ArxivClusteringS2S, \u001b[3;90ms2s\u001b[0m\n",
      "    - BiorxivClusteringP2P, \u001b[3;90mp2p\u001b[0m\n",
      "    - BiorxivClusteringS2S, \u001b[3;90ms2s\u001b[0m\n",
      "    - BlurbsClusteringP2P, \u001b[3;90mp2p\u001b[0m\n",
      "    - BlurbsClusteringS2S, \u001b[3;90ms2s\u001b[0m\n",
      "    - MedrxivClusteringP2P, \u001b[3;90mp2p\u001b[0m\n",
      "    - MedrxivClusteringS2S, \u001b[3;90ms2s\u001b[0m\n",
      "    - RedditClustering, \u001b[3;90ms2s\u001b[0m\n",
      "    - RedditClusteringP2P, \u001b[3;90mp2p\u001b[0m\n",
      "    - StackExchangeClustering, \u001b[3;90ms2s\u001b[0m\n",
      "    - StackExchangeClusteringP2P, \u001b[3;90mp2p\u001b[0m\n",
      "    - TenKGnadClusteringP2P, \u001b[3;90mp2p\u001b[0m\n",
      "    - TenKGnadClusteringS2S, \u001b[3;90ms2s\u001b[0m\n",
      "    - TwentyNewsgroupsClustering, \u001b[3;90ms2s\u001b[0m\n",
      "    - CLSClusteringS2S, \u001b[3;90ms2s\u001b[0m\n",
      "    - CLSClusteringP2P, \u001b[3;90mp2p\u001b[0m\n",
      "    - ThuNewsClusteringS2S, \u001b[3;90ms2s\u001b[0m\n",
      "    - ThuNewsClusteringP2P, \u001b[3;90mp2p\u001b[0m\n",
      "    - 8TagsClustering, \u001b[3;90ms2s\u001b[0m\n",
      "\n",
      "\n",
      "\u001b[1mSTS\u001b[0m\n",
      "    - BIOSSES, \u001b[3;90ms2s\u001b[0m\n",
      "    - SICK-R, \u001b[3;90ms2s\u001b[0m\n",
      "    - STS12, \u001b[3;90ms2s\u001b[0m\n",
      "    - STS13, \u001b[3;90ms2s\u001b[0m\n",
      "    - STS14, \u001b[3;90ms2s\u001b[0m\n",
      "    - STS15, \u001b[3;90ms2s\u001b[0m\n",
      "    - STS16, \u001b[3;90ms2s\u001b[0m\n",
      "    - STS17, \u001b[3;90ms2s\u001b[0m, \u001b[3;36mcrosslingual \u001b[0m\u001b[1;3;36m11\u001b[0m\u001b[3;36m \u001b[0m\u001b[3;36m/\u001b[0m\u001b[3;36m \u001b[0m\u001b[1;3;36m11\u001b[0m\u001b[3;36m pairs\u001b[0m\n",
      "    - STS22, \u001b[3;90mp2p\u001b[0m, \u001b[3;36mcrosslingual \u001b[0m\u001b[1;3;36m18\u001b[0m\u001b[3;36m \u001b[0m\u001b[3;36m/\u001b[0m\u001b[3;36m \u001b[0m\u001b[1;3;36m18\u001b[0m\u001b[3;36m pairs\u001b[0m\n",
      "    - STSBenchmark, \u001b[3;90ms2s\u001b[0m\n",
      "    - ATEC, \u001b[3;90ms2s\u001b[0m\n",
      "    - BQ, \u001b[3;90ms2s\u001b[0m\n",
      "    - LCQMC, \u001b[3;90ms2s\u001b[0m\n",
      "    - PAWSX, \u001b[3;90ms2s\u001b[0m\n",
      "    - STSB, \u001b[3;90ms2s\u001b[0m\n",
      "    - AFQMC, \u001b[3;90ms2s\u001b[0m\n",
      "    - QBQTC, \u001b[3;90ms2s\u001b[0m\n",
      "    - SICK-R-PL, \u001b[3;90ms2s\u001b[0m\n",
      "    - CDSC-R, \u001b[3;90ms2s\u001b[0m\n",
      "\n",
      "\n",
      "\u001b[1mReranking\u001b[0m\n",
      "    - AskUbuntuDupQuestions, \u001b[3;90ms2s\u001b[0m\n",
      "    - MindSmallReranking, \u001b[3;90ms2s\u001b[0m\n",
      "    - SciDocsRR, \u001b[3;90ms2s\u001b[0m\n",
      "    - StackOverflowDupQuestions, \u001b[3;90ms2s\u001b[0m\n",
      "    - T2Reranking, \u001b[3;90ms2p\u001b[0m\n",
      "    - MMarcoReranking, \u001b[3;90ms2p\u001b[0m\n",
      "    - CMedQAv1, \u001b[3;90ms2p\u001b[0m\n",
      "    - CMedQAv2, \u001b[3;90ms2p\u001b[0m\n",
      "\n",
      "\n"
     ]
    }
   ],
   "source": [
    "!mteb --available_tasks"
   ]
  },
  {
   "cell_type": "code",
   "execution_count": 5,
   "metadata": {},
   "outputs": [
    {
     "name": "stdout",
     "output_type": "stream",
     "text": [
      "2023-11-01 14:08:17 deepsparse.engine WARNING  batch_size < 1 so disabling batch size override\n",
      "DeepSparse, Copyright 2021-present / Neuralmagic, Inc. version: 1.6.0.20231027 COMMUNITY | (2083fc4e) (release) (optimized) (system=avx512_vnni, binary=avx512)\n",
      "\u001b[34m[nm_ort 7fcb1789a740 >WARN< \u001b[33m is_supported_graph src/onnxruntime_neuralmagic/supported/ops.cc:150\u001b[34m] \u001b[0mWarning: Optimized runtime disabled - Detected dynamic input input_ids dim 0. Set inputs to static shapes to enable optimal performance.\n",
      "\u001b[30m─────────────────────────────── \u001b[0m\u001b[1mSelected tasks \u001b[0m\u001b[30m ────────────────────────────────\u001b[0m\n",
      "\u001b[1mSTS\u001b[0m\n",
      "    - STS12, \u001b[3;90ms2s\u001b[0m\n",
      "    - STS13, \u001b[3;90ms2s\u001b[0m\n",
      "\n",
      "\n",
      "1\n",
      "Batches: 100%|██████████████████████████████| 3108/3108 [01:28<00:00, 35.11it/s]\n",
      "1\n",
      "Batches: 100%|██████████████████████████████| 3108/3108 [01:11<00:00, 43.57it/s]\n",
      "1\n",
      "Batches: 100%|██████████████████████████████| 1500/1500 [00:30<00:00, 49.33it/s]\n",
      "1\n",
      "Batches: 100%|██████████████████████████████| 1500/1500 [00:41<00:00, 35.85it/s]\n",
      "{'STS12': {'mteb_version': '1.1.1', 'dataset_revision': 'a0d554a64d88156834ff5ae9920b964011b16384', 'mteb_dataset_name': 'STS12', 'test': {'cos_sim': {'pearson': 0.8605059236544976, 'spearman': 0.777379620275434}, 'manhattan': {'pearson': 0.8303339435275494, 'spearman': 0.7809286810596651}, 'euclidean': {'pearson': 0.830478943794081, 'spearman': 0.7804996976640955}, 'evaluation_time': 159.94}}, 'STS13': {'mteb_version': '1.1.1', 'dataset_revision': '7e90230a92c190f1bf69ae9002b8cea547a64cca', 'mteb_dataset_name': 'STS13', 'test': {'cos_sim': {'pearson': 0.8462236515554403, 'spearman': 0.8605125085700879}, 'manhattan': {'pearson': 0.8511044607026521, 'spearman': 0.8611655397495329}, 'euclidean': {'pearson': 0.8519511820323453, 'spearman': 0.8617165628894289}, 'evaluation_time': 72.28}}}\n"
     ]
    }
   ],
   "source": [
    "!python3 run_eval.py \\\n",
    "    --model-name zeroshot/bge-base-en-v1.5-quant \\\n",
    "    --task-names STS12 STS13 \\\n",
    "    --output-dir results/bge-base-quant"
   ]
  }
 ],
 "metadata": {
  "kernelspec": {
   "display_name": "Python 3 (ipykernel)",
   "language": "python",
   "name": "python3"
  },
  "language_info": {
   "codemirror_mode": {
    "name": "ipython",
    "version": 3
   },
   "file_extension": ".py",
   "mimetype": "text/x-python",
   "name": "python",
   "nbconvert_exporter": "python",
   "pygments_lexer": "ipython3",
   "version": "3.9.2"
  }
 },
 "nbformat": 4,
 "nbformat_minor": 4
}
